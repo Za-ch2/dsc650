{
 "cells": [
  {
   "cell_type": "code",
   "execution_count": 1,
   "metadata": {},
   "outputs": [
    {
     "name": "stdout",
     "output_type": "stream",
     "text": [
      "Collecting tinydbNote: you may need to restart the kernel to use updated packages.\n",
      "\n",
      "  Downloading tinydb-4.8.0-py3-none-any.whl (24 kB)\n",
      "Installing collected packages: tinydb\n",
      "Successfully installed tinydb-4.8.0\n"
     ]
    }
   ],
   "source": [
    "pip install tinydb"
   ]
  },
  {
   "cell_type": "code",
   "execution_count": 2,
   "metadata": {},
   "outputs": [
    {
     "name": "stdout",
     "output_type": "stream",
     "text": [
      "Data has been successfully added to the database.\n"
     ]
    }
   ],
   "source": [
    "from pathlib import Path\n",
    "import os\n",
    "from tinydb import TinyDB\n",
    "\n",
    "# Define the directory paths\n",
    "current_dir = Path(os.getcwd()).absolute()\n",
    "results_dir = current_dir.joinpath('results')\n",
    "kv_data_dir = results_dir.joinpath('kvdb')\n",
    "\n",
    "# Define the path to the JSON file for the document database\n",
    "db_path = results_dir.joinpath('patient-info.json')\n",
    "\n",
    "class DocumentDB(object):\n",
    "    def __init__(self, db_path):\n",
    "        self._db_path = db_path\n",
    "        self._db = None\n",
    "        self._load_db()\n",
    "\n",
    "    def _load_db(self):\n",
    "        self._db = TinyDB(self._db_path)\n",
    "\n",
    "# Create a DocumentDB instance\n",
    "db = DocumentDB(db_path)\n",
    "\n",
    "# Sample data for a person\n",
    "person_data = {\n",
    "    \"person_id\": \"dyer\",\n",
    "    \"personal_name\": \"William\",\n",
    "    \"family_name\": \"Dyer\",\n",
    "    \"visits\": [\n",
    "        {\n",
    "            \"visit_id\": 619,\n",
    "            \"site_id\": \"DR-1\",\n",
    "            \"visit_date\": \"1927-02-08\",\n",
    "            \"site\": {\n",
    "                \"site_id\": \"DR-1\",\n",
    "                \"latitude\": -49.85,\n",
    "                \"longitude\": -128.57\n",
    "            },\n",
    "            \"measurements\": [\n",
    "                {\n",
    "                    \"visit_id\": 619,\n",
    "                    \"person_id\": \"dyer\",\n",
    "                    \"quantity\": \"rad\",\n",
    "                    \"reading\": 9.82\n",
    "                },\n",
    "                {\n",
    "                    \"visit_id\": 619,\n",
    "                    \"person_id\": \"dyer\",\n",
    "                    \"quantity\": \"sal\",\n",
    "                    \"reading\": 0.13\n",
    "                }\n",
    "            ]\n",
    "        }\n",
    "    ]\n",
    "}\n",
    "\n",
    "# Add the person_data document to the database\n",
    "db._db.insert(person_data)\n",
    "\n",
    "# Close the database\n",
    "db._db.close()\n",
    "\n",
    "print(\"Data has been successfully added to the database.\")\n"
   ]
  }
 ],
 "metadata": {
  "kernelspec": {
   "display_name": "Python 3 (ipykernel)",
   "language": "python",
   "name": "python3"
  },
  "language_info": {
   "codemirror_mode": {
    "name": "ipython",
    "version": 3
   },
   "file_extension": ".py",
   "mimetype": "text/x-python",
   "name": "python",
   "nbconvert_exporter": "python",
   "pygments_lexer": "ipython3",
   "version": "3.11.3"
  }
 },
 "nbformat": 4,
 "nbformat_minor": 4
}
