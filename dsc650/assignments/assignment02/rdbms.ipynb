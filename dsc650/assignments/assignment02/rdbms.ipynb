{
 "cells": [
  {
   "cell_type": "code",
   "execution_count": 1,
   "metadata": {},
   "outputs": [],
   "source": [
    "from pathlib import Path\n",
    "import os\n",
    "import sqlite3\n",
    "\n",
    "import s3fs\n",
    "import pandas as pd\n",
    "\n",
    "current_dir = Path(os.getcwd()).absolute()\n",
    "results_dir = current_dir.joinpath('results')\n",
    "kv_data_dir = results_dir.joinpath('kvdb')\n",
    "kv_data_dir.mkdir(parents=True, exist_ok=True)\n",
    "\n",
    "\n",
    "def read_cluster_csv(file_path, endpoint_url='https://storage.budsc.midwest-datascience.com'):\n",
    "    s3 = s3fs.S3FileSystem(\n",
    "        anon=True,\n",
    "        client_kwargs={\n",
    "            'endpoint_url': endpoint_url\n",
    "        }\n",
    "    )\n",
    "    return pd.read_csv(s3.open(file_path, mode='rb'))\n",
    "\n",
    "# Define the base path for your S3 data\n",
    "base_path = 'C:/Users/PN174MM/OneDrive - EY/Desktop/Personal Projects/650/dsc650/data/external/tidynomicon/'\n",
    "def read_local_csv(file_path):\n",
    "    return pd.read_csv(file_path)\n"
   ]
  },
  {
   "cell_type": "markdown",
   "metadata": {},
   "source": [
    "## Create and Load Measurements Table"
   ]
  },
  {
   "cell_type": "code",
   "execution_count": 2,
   "metadata": {},
   "outputs": [],
   "source": [
    "def create_measurements_table(conn):\n",
    "    sql = \"\"\"\n",
    "    CREATE TABLE IF NOT EXISTS measurements (\n",
    "        visit_id integer NOT NULL,\n",
    "        person_id text NOT NULL,\n",
    "        quantity text,\n",
    "        reading real,\n",
    "        FOREIGN KEY (visit_id) REFERENCES visits (visit_id),\n",
    "        FOREIGN KEY (person_id) REFERENCES people (people_id)\n",
    "        );\n",
    "    \"\"\"\n",
    "\n",
    "    c = conn.cursor()\n",
    "    c.execute(sql)\n",
    "    \n",
    "def load_measurements_table(conn):\n",
    "    create_measurements_table(conn)\n",
    "    df = read_local_csv(base_path + 'measurements.csv')\n",
    "    measurements_data = df.values\n",
    "    c = conn.cursor()\n",
    "    c.execute('DELETE FROM measurements;')\n",
    "    c.executemany('INSERT INTO measurements VALUES (?,?,?,?)', measurements_data)\n",
    "    conn.commit()  # Commit changes to release the lock\n"
   ]
  },
  {
   "cell_type": "markdown",
   "metadata": {},
   "source": [
    "## Create and Load People Table"
   ]
  },
  {
   "cell_type": "code",
   "execution_count": 3,
   "metadata": {},
   "outputs": [],
   "source": [
    "def create_people_table(conn):\n",
    "    sql = \"\"\"\n",
    "    CREATE TABLE IF NOT EXISTS person (\n",
    "        person_id text PRIMARY KEY,\n",
    "        personal_name text NOT NULL,\n",
    "        family_name text NOT NULL\n",
    "    );\n",
    "    \"\"\"\n",
    "    c = conn.cursor()\n",
    "    c.execute(sql)\n",
    "\n",
    "    \n",
    "def load_people_table(conn):\n",
    "    create_people_table(conn)\n",
    "    df = read_local_csv(base_path + 'person.csv')\n",
    "    person_data = df.values\n",
    "    c = conn.cursor()\n",
    "    c.execute('DELETE FROM person;')\n",
    "    c.executemany('INSERT INTO person VALUES (?,?,?)', person_data)\n",
    "    conn.commit()  # Commit changes to release the lock\n",
    "\n"
   ]
  },
  {
   "cell_type": "markdown",
   "metadata": {},
   "source": [
    "## Create and Load Sites Table"
   ]
  },
  {
   "cell_type": "code",
   "execution_count": 4,
   "metadata": {},
   "outputs": [],
   "source": [
    "def create_sites_table(conn):\n",
    "    sql = \"\"\"\n",
    "    CREATE TABLE IF NOT EXISTS sites (\n",
    "        site_id text PRIMARY KEY,\n",
    "        latitude double NOT NULL,\n",
    "        longitude double NOT NULL\n",
    "    );\n",
    "    \"\"\"\n",
    "\n",
    "    c = conn.cursor()\n",
    "    c.execute(sql)\n",
    "\n",
    "def load_sites_table(conn):\n",
    "    create_sites_table(conn)\n",
    "    df = read_local_csv(base_path + 'site.csv')\n",
    "    site_data = df.values\n",
    "    c = conn.cursor()\n",
    "    c.execute('DELETE FROM sites;')\n",
    "    c.executemany('INSERT INTO sites VALUES (?,?,?)', site_data)\n",
    "    conn.commit()  # Commit changes to release the lock\n"
   ]
  },
  {
   "cell_type": "markdown",
   "metadata": {},
   "source": [
    "## Create and Load Visits Table"
   ]
  },
  {
   "cell_type": "code",
   "execution_count": 5,
   "metadata": {},
   "outputs": [],
   "source": [
    "def create_visits_table(conn):\n",
    "    sql = \"\"\"\n",
    "    CREATE TABLE IF NOT EXISTS visits (\n",
    "        visit_id integer PRIMARY KEY,\n",
    "        site_id text NOT NULL,\n",
    "        visit_date text,\n",
    "        FOREIGN KEY (site_id) REFERENCES sites (site_id)\n",
    "        );\n",
    "    \"\"\"\n",
    "\n",
    "    c = conn.cursor()\n",
    "    c.execute(sql)\n",
    "\n",
    "def load_visits_table(conn):\n",
    "    create_visits_table(conn)\n",
    "    df = read_local_csv(base_path + 'visited.csv')\n",
    "    visits_data = df.values\n",
    "    c = conn.cursor()\n",
    "    c.execute('DELETE FROM visits;')\n",
    "    c.executemany('INSERT INTO visits (visit_id, site_id, visit_date) VALUES (?,?,?)', visits_data)\n",
    "    conn.commit()  # Commit changes to release the lock\n"
   ]
  },
  {
   "cell_type": "markdown",
   "metadata": {},
   "source": [
    "## Create DB and Load Tables"
   ]
  },
  {
   "cell_type": "code",
   "execution_count": 6,
   "metadata": {
    "scrolled": false
   },
   "outputs": [],
   "source": [
    "db_path = results_dir.joinpath('patient-info.db')\n",
    "conn = sqlite3.connect(str(db_path))\n",
    "# TODO: Uncomment once functions completed\n",
    "load_people_table(conn) \n",
    "load_sites_table(conn)\n",
    "load_visits_table(conn)\n",
    "load_measurements_table(conn)\n",
    "\n",
    "conn.commit()\n",
    "conn.close()"
   ]
  }
 ],
 "metadata": {
  "kernelspec": {
   "display_name": "Python 3 (ipykernel)",
   "language": "python",
   "name": "python3"
  },
  "language_info": {
   "codemirror_mode": {
    "name": "ipython",
    "version": 3
   },
   "file_extension": ".py",
   "mimetype": "text/x-python",
   "name": "python",
   "nbconvert_exporter": "python",
   "pygments_lexer": "ipython3",
   "version": "3.11.3"
  }
 },
 "nbformat": 4,
 "nbformat_minor": 4
}
